{
 "cells": [
  {
   "cell_type": "code",
   "execution_count": 1,
   "id": "biblical-mineral",
   "metadata": {},
   "outputs": [
    {
     "data": {
      "text/html": [
       "<div>\n",
       "<style scoped>\n",
       "    .dataframe tbody tr th:only-of-type {\n",
       "        vertical-align: middle;\n",
       "    }\n",
       "\n",
       "    .dataframe tbody tr th {\n",
       "        vertical-align: top;\n",
       "    }\n",
       "\n",
       "    .dataframe thead th {\n",
       "        text-align: right;\n",
       "    }\n",
       "</style>\n",
       "<table border=\"1\" class=\"dataframe\">\n",
       "  <thead>\n",
       "    <tr style=\"text-align: right;\">\n",
       "      <th></th>\n",
       "      <th>emotion</th>\n",
       "      <th>pixels</th>\n",
       "      <th>Usage</th>\n",
       "    </tr>\n",
       "  </thead>\n",
       "  <tbody>\n",
       "    <tr>\n",
       "      <th>0</th>\n",
       "      <td>0</td>\n",
       "      <td>70 80 82 72 58 58 60 63 54 58 60 48 89 115 121...</td>\n",
       "      <td>Training</td>\n",
       "    </tr>\n",
       "    <tr>\n",
       "      <th>1</th>\n",
       "      <td>0</td>\n",
       "      <td>151 150 147 155 148 133 111 140 170 174 182 15...</td>\n",
       "      <td>Training</td>\n",
       "    </tr>\n",
       "    <tr>\n",
       "      <th>2</th>\n",
       "      <td>2</td>\n",
       "      <td>231 212 156 164 174 138 161 173 182 200 106 38...</td>\n",
       "      <td>Training</td>\n",
       "    </tr>\n",
       "    <tr>\n",
       "      <th>3</th>\n",
       "      <td>4</td>\n",
       "      <td>24 32 36 30 32 23 19 20 30 41 21 22 32 34 21 1...</td>\n",
       "      <td>Training</td>\n",
       "    </tr>\n",
       "    <tr>\n",
       "      <th>4</th>\n",
       "      <td>6</td>\n",
       "      <td>4 0 0 0 0 0 0 0 0 0 0 0 3 15 23 28 48 50 58 84...</td>\n",
       "      <td>Training</td>\n",
       "    </tr>\n",
       "    <tr>\n",
       "      <th>...</th>\n",
       "      <td>...</td>\n",
       "      <td>...</td>\n",
       "      <td>...</td>\n",
       "    </tr>\n",
       "    <tr>\n",
       "      <th>35882</th>\n",
       "      <td>6</td>\n",
       "      <td>50 36 17 22 23 29 33 39 34 37 37 37 39 43 48 5...</td>\n",
       "      <td>PrivateTest</td>\n",
       "    </tr>\n",
       "    <tr>\n",
       "      <th>35883</th>\n",
       "      <td>3</td>\n",
       "      <td>178 174 172 173 181 188 191 194 196 199 200 20...</td>\n",
       "      <td>PrivateTest</td>\n",
       "    </tr>\n",
       "    <tr>\n",
       "      <th>35884</th>\n",
       "      <td>0</td>\n",
       "      <td>17 17 16 23 28 22 19 17 25 26 20 24 31 19 27 9...</td>\n",
       "      <td>PrivateTest</td>\n",
       "    </tr>\n",
       "    <tr>\n",
       "      <th>35885</th>\n",
       "      <td>3</td>\n",
       "      <td>30 28 28 29 31 30 42 68 79 81 77 67 67 71 63 6...</td>\n",
       "      <td>PrivateTest</td>\n",
       "    </tr>\n",
       "    <tr>\n",
       "      <th>35886</th>\n",
       "      <td>2</td>\n",
       "      <td>19 13 14 12 13 16 21 33 50 57 71 84 97 108 122...</td>\n",
       "      <td>PrivateTest</td>\n",
       "    </tr>\n",
       "  </tbody>\n",
       "</table>\n",
       "<p>35887 rows × 3 columns</p>\n",
       "</div>"
      ],
      "text/plain": [
       "       emotion                                             pixels        Usage\n",
       "0            0  70 80 82 72 58 58 60 63 54 58 60 48 89 115 121...     Training\n",
       "1            0  151 150 147 155 148 133 111 140 170 174 182 15...     Training\n",
       "2            2  231 212 156 164 174 138 161 173 182 200 106 38...     Training\n",
       "3            4  24 32 36 30 32 23 19 20 30 41 21 22 32 34 21 1...     Training\n",
       "4            6  4 0 0 0 0 0 0 0 0 0 0 0 3 15 23 28 48 50 58 84...     Training\n",
       "...        ...                                                ...          ...\n",
       "35882        6  50 36 17 22 23 29 33 39 34 37 37 37 39 43 48 5...  PrivateTest\n",
       "35883        3  178 174 172 173 181 188 191 194 196 199 200 20...  PrivateTest\n",
       "35884        0  17 17 16 23 28 22 19 17 25 26 20 24 31 19 27 9...  PrivateTest\n",
       "35885        3  30 28 28 29 31 30 42 68 79 81 77 67 67 71 63 6...  PrivateTest\n",
       "35886        2  19 13 14 12 13 16 21 33 50 57 71 84 97 108 122...  PrivateTest\n",
       "\n",
       "[35887 rows x 3 columns]"
      ]
     },
     "execution_count": 1,
     "metadata": {},
     "output_type": "execute_result"
    }
   ],
   "source": [
    "import pandas as pd\n",
    "import numpy as np\n",
    "\n",
    "\n",
    "data = pd.read_csv(\"fer2013.csv\")\n",
    "data"
   ]
  },
  {
   "cell_type": "code",
   "execution_count": 2,
   "id": "trying-spending",
   "metadata": {},
   "outputs": [
    {
     "data": {
      "text/plain": [
       "array(['Training', 'PublicTest', 'PrivateTest'], dtype=object)"
      ]
     },
     "execution_count": 2,
     "metadata": {},
     "output_type": "execute_result"
    }
   ],
   "source": [
    "data['Usage'].unique()"
   ]
  },
  {
   "cell_type": "code",
   "execution_count": 3,
   "id": "brazilian-greeting",
   "metadata": {},
   "outputs": [],
   "source": [
    "X_train = []\n",
    "y_train = []\n",
    "X_test = []\n",
    "y_test = []\n",
    "#X_val = []\n",
    "#y_val = []\n",
    "\n",
    "for index,row in data.iterrows():\n",
    "  k = row['pixels'].split(\" \")\n",
    "  if row['Usage'] == 'Training':\n",
    "    X_train.append(np.array(k))\n",
    "    y_train.append(row['emotion'])\n",
    "\n",
    "  #if row['Usage'] == 'PrivateTest':\n",
    "  #  X_val.append(np.array(k))\n",
    "  #  y_val.append(row['emotion'])  \n",
    "    \n",
    "  elif row['Usage'] == 'PublicTest':\n",
    "    X_test.append(np.array(k))\n",
    "    y_test.append(row['emotion'])"
   ]
  },
  {
   "cell_type": "code",
   "execution_count": null,
   "id": "appreciated-guidance",
   "metadata": {},
   "outputs": [],
   "source": []
  },
  {
   "cell_type": "code",
   "execution_count": 4,
   "id": "intense-enough",
   "metadata": {},
   "outputs": [],
   "source": [
    "import keras\n",
    "from keras.utils import np_utils\n",
    "X_train = np.array(X_train)\n",
    "y_train = np.array(y_train)\n",
    "X_test = np.array(X_test)\n",
    "y_test = np.array(y_test)\n",
    "#X_val = np.array(X_val)\n",
    "#y_val = np.array(y_val)\n",
    "\n",
    "X_train_new = X_train.reshape(X_train.shape[0],48,48,1)\n",
    "X_test_new = X_test.reshape(X_test.shape[0],48,48,1)\n",
    "#X_val_new = X_val.reshape(X_val.shape[0],48,48,1)\n",
    "\n",
    "y_train_new = np_utils.to_categorical(y_train,num_classes=10)\n",
    "y_test_new = np_utils.to_categorical(y_test,num_classes=10)\n",
    "#y_val_new = np_utils.to_categorical(y_val,num_classes=10)"
   ]
  },
  {
   "cell_type": "code",
   "execution_count": 5,
   "id": "exterior-alabama",
   "metadata": {},
   "outputs": [],
   "source": [
    "X_train_new = X_train_new.astype('float32')/255\n",
    "X_test_new = X_test_new.astype('float32')/255\n",
    "#X_val_new = X_val_new.astype('float32')/255"
   ]
  },
  {
   "cell_type": "code",
   "execution_count": 6,
   "id": "continent-bandwidth",
   "metadata": {},
   "outputs": [
    {
     "name": "stdout",
     "output_type": "stream",
     "text": [
      "Model: \"sequential\"\n",
      "_________________________________________________________________\n",
      "Layer (type)                 Output Shape              Param #   \n",
      "=================================================================\n",
      "conv2d (Conv2D)              (None, 44, 44, 32)        832       \n",
      "_________________________________________________________________\n",
      "max_pooling2d (MaxPooling2D) (None, 22, 22, 32)        0         \n",
      "_________________________________________________________________\n",
      "conv2d_1 (Conv2D)            (None, 18, 18, 64)        51264     \n",
      "_________________________________________________________________\n",
      "max_pooling2d_1 (MaxPooling2 (None, 9, 9, 64)          0         \n",
      "_________________________________________________________________\n",
      "flatten (Flatten)            (None, 5184)              0         \n",
      "_________________________________________________________________\n",
      "dense (Dense)                (None, 100)               518500    \n",
      "_________________________________________________________________\n",
      "dense_1 (Dense)              (None, 10)                1010      \n",
      "=================================================================\n",
      "Total params: 571,606\n",
      "Trainable params: 571,606\n",
      "Non-trainable params: 0\n",
      "_________________________________________________________________\n"
     ]
    }
   ],
   "source": [
    "import keras\n",
    "from keras.models import *\n",
    "from keras.layers import *\n",
    "from keras.models import Sequential\n",
    "from keras.layers.core import Flatten,Dense,Dropout\n",
    "from keras.layers.convolutional import Convolution2D,MaxPooling2D,ZeroPadding2D\n",
    "from keras.optimizers import SGD\n",
    "pic_width = 48\n",
    "pic_height= 48\n",
    "n_channels = 1\n",
    "\n",
    "#280-5+1\n",
    "#300-5+1\n",
    "\n",
    "#(280-5+1)/2 \n",
    "#(300-5+1)/2\n",
    "\n",
    "#(280-5+1)/3 = 276/3 = 92\n",
    "#ceiling((296)/3 = 98+1\n",
    "\n",
    "\n",
    "# If it a colored image ..the filter will automaticall have 3  channels\n",
    "\n",
    "model = Sequential()\n",
    "# Input layer in CNN should have same shape as original images ( no flattening required)\n",
    "model.add(InputLayer(input_shape=(pic_width,pic_height,n_channels)))\n",
    "# Adding a conv layer\n",
    "model.add(Conv2D(32,(5,5),activation = 'relu',strides = (1,1)))   # 32 = no . of filters present in this conv layer; \n",
    "model.add(MaxPooling2D(2,2))                                                                  #(5 x 5) = size of the filter\n",
    "                                                                  #strides = (1,1) = hprozonatl 1 slide , vertical 1 slide\n",
    "# Adding a second conv layer (optional)\n",
    "model.add(Conv2D(64,(5,5),activation = 'relu',strides = (1,1))) \n",
    "model.add(MaxPooling2D(2,2))\n",
    "# Flattening of the conv layer output\n",
    "model.add(Flatten())\n",
    "# MLP\n",
    "model.add(Dense(100,activation = 'relu')) # relu - works best\n",
    "model.add(Dense(10,activation = 'softmax'))   # Why sigmoid -- binary --- cat vs dog\n",
    "\n",
    "model.summary()"
   ]
  },
  {
   "cell_type": "code",
   "execution_count": 7,
   "id": "colored-cooperation",
   "metadata": {},
   "outputs": [
    {
     "data": {
      "text/plain": [
       "(28709, 2304)"
      ]
     },
     "execution_count": 7,
     "metadata": {},
     "output_type": "execute_result"
    }
   ],
   "source": [
    "X_train.shape"
   ]
  },
  {
   "cell_type": "code",
   "execution_count": 8,
   "id": "raised-consolidation",
   "metadata": {},
   "outputs": [],
   "source": [
    "model.compile(optimizer='sgd',loss='categorical_crossentropy',metrics=['accuracy'])"
   ]
  },
  {
   "cell_type": "code",
   "execution_count": 9,
   "id": "collectible-stationery",
   "metadata": {},
   "outputs": [
    {
     "name": "stdout",
     "output_type": "stream",
     "text": [
      "Epoch 1/30\n",
      "898/898 [==============================] - 355s 395ms/step - loss: 1.8232 - accuracy: 0.2501 - val_loss: 1.7926 - val_accuracy: 0.3037\n",
      "Epoch 2/30\n",
      "898/898 [==============================] - 350s 389ms/step - loss: 1.7375 - accuracy: 0.3068 - val_loss: 1.8282 - val_accuracy: 0.2499\n",
      "Epoch 3/30\n",
      "898/898 [==============================] - 370s 412ms/step - loss: 1.6462 - accuracy: 0.3656 - val_loss: 1.6273 - val_accuracy: 0.3870\n",
      "Epoch 4/30\n",
      "898/898 [==============================] - 354s 394ms/step - loss: 1.5884 - accuracy: 0.3903 - val_loss: 1.6611 - val_accuracy: 0.3313\n",
      "Epoch 5/30\n",
      "898/898 [==============================] - 363s 404ms/step - loss: 1.5453 - accuracy: 0.4072 - val_loss: 1.8016 - val_accuracy: 0.3302\n",
      "Epoch 6/30\n",
      "898/898 [==============================] - 356s 396ms/step - loss: 1.5064 - accuracy: 0.4242 - val_loss: 1.5670 - val_accuracy: 0.3912\n",
      "Epoch 7/30\n",
      "898/898 [==============================] - 367s 409ms/step - loss: 1.4711 - accuracy: 0.4393 - val_loss: 1.5264 - val_accuracy: 0.4090\n",
      "Epoch 8/30\n",
      "898/898 [==============================] - 357s 398ms/step - loss: 1.4363 - accuracy: 0.4534 - val_loss: 1.5011 - val_accuracy: 0.4313\n",
      "Epoch 9/30\n",
      "898/898 [==============================] - 351s 390ms/step - loss: 1.4024 - accuracy: 0.4653 - val_loss: 1.5198 - val_accuracy: 0.4221\n",
      "Epoch 10/30\n",
      "898/898 [==============================] - 356s 396ms/step - loss: 1.3698 - accuracy: 0.4809 - val_loss: 1.4500 - val_accuracy: 0.4486\n",
      "Epoch 11/30\n",
      "898/898 [==============================] - 361s 403ms/step - loss: 1.3373 - accuracy: 0.4929 - val_loss: 1.4706 - val_accuracy: 0.4397\n",
      "Epoch 12/30\n",
      "898/898 [==============================] - 396s 441ms/step - loss: 1.3035 - accuracy: 0.5066 - val_loss: 1.4477 - val_accuracy: 0.4433\n",
      "Epoch 13/30\n",
      "898/898 [==============================] - 421s 468ms/step - loss: 1.2705 - accuracy: 0.5195 - val_loss: 1.4716 - val_accuracy: 0.4422\n",
      "Epoch 14/30\n",
      "898/898 [==============================] - 430s 479ms/step - loss: 1.2372 - accuracy: 0.5352 - val_loss: 1.4034 - val_accuracy: 0.4653\n",
      "Epoch 15/30\n",
      "898/898 [==============================] - 507s 565ms/step - loss: 1.2041 - accuracy: 0.5458 - val_loss: 1.4635 - val_accuracy: 0.4653\n",
      "Epoch 16/30\n",
      "898/898 [==============================] - 497s 553ms/step - loss: 1.1703 - accuracy: 0.5634 - val_loss: 1.3848 - val_accuracy: 0.4831\n",
      "Epoch 17/30\n",
      "898/898 [==============================] - 456s 508ms/step - loss: 1.1356 - accuracy: 0.5775 - val_loss: 1.4145 - val_accuracy: 0.4759\n",
      "Epoch 18/30\n",
      "898/898 [==============================] - 445s 496ms/step - loss: 1.1005 - accuracy: 0.5934 - val_loss: 1.3427 - val_accuracy: 0.5035\n",
      "Epoch 19/30\n",
      "898/898 [==============================] - 510s 567ms/step - loss: 1.0622 - accuracy: 0.6082 - val_loss: 1.4321 - val_accuracy: 0.4765\n",
      "Epoch 20/30\n",
      "898/898 [==============================] - 546s 608ms/step - loss: 1.0265 - accuracy: 0.6233 - val_loss: 1.3780 - val_accuracy: 0.5007\n",
      "Epoch 21/30\n",
      "898/898 [==============================] - 380s 423ms/step - loss: 0.9870 - accuracy: 0.6392 - val_loss: 1.4273 - val_accuracy: 0.4909\n",
      "Epoch 22/30\n",
      "898/898 [==============================] - 366s 408ms/step - loss: 0.9482 - accuracy: 0.6575 - val_loss: 1.4836 - val_accuracy: 0.4684\n",
      "Epoch 23/30\n",
      "898/898 [==============================] - 373s 416ms/step - loss: 0.9068 - accuracy: 0.6713 - val_loss: 1.4492 - val_accuracy: 0.5046\n",
      "Epoch 24/30\n",
      "898/898 [==============================] - 367s 409ms/step - loss: 0.8687 - accuracy: 0.6887 - val_loss: 1.7650 - val_accuracy: 0.4436\n",
      "Epoch 25/30\n",
      "898/898 [==============================] - 380s 423ms/step - loss: 0.8234 - accuracy: 0.7038 - val_loss: 1.4590 - val_accuracy: 0.5127\n",
      "Epoch 26/30\n",
      "898/898 [==============================] - 378s 421ms/step - loss: 0.7772 - accuracy: 0.7217 - val_loss: 1.6620 - val_accuracy: 0.4762\n",
      "Epoch 27/30\n",
      "898/898 [==============================] - 387s 431ms/step - loss: 0.7379 - accuracy: 0.7361 - val_loss: 1.7126 - val_accuracy: 0.4689\n",
      "Epoch 28/30\n",
      "898/898 [==============================] - 372s 415ms/step - loss: 0.6886 - accuracy: 0.7549 - val_loss: 1.5223 - val_accuracy: 0.5238\n",
      "Epoch 29/30\n",
      "898/898 [==============================] - 378s 421ms/step - loss: 0.6430 - accuracy: 0.7743 - val_loss: 2.2259 - val_accuracy: 0.4338\n",
      "Epoch 30/30\n",
      "898/898 [==============================] - 395s 440ms/step - loss: 0.5979 - accuracy: 0.7898 - val_loss: 1.8156 - val_accuracy: 0.4937\n"
     ]
    }
   ],
   "source": [
    "history=model.fit(X_train_new,y_train_new,batch_size=32,epochs=30,validation_data=(X_test_new,y_test_new))"
   ]
  },
  {
   "cell_type": "code",
   "execution_count": null,
   "id": "mature-baptist",
   "metadata": {},
   "outputs": [],
   "source": []
  },
  {
   "cell_type": "code",
   "execution_count": 10,
   "id": "dominant-orange",
   "metadata": {},
   "outputs": [],
   "source": [
    "model_json = model.to_json()\n",
    "with open(\"model.json\",\"w\") as json_file:\n",
    "  json_file.write(model_json)\n",
    "  model.save_weights(\"model.h5\")"
   ]
  },
  {
   "cell_type": "code",
   "execution_count": 1,
   "id": "passing-electron",
   "metadata": {},
   "outputs": [],
   "source": [
    "import os\n",
    "import cv2\n",
    "import numpy as np\n",
    "from keras.models import model_from_json\n",
    "from keras.preprocessing import image"
   ]
  },
  {
   "cell_type": "code",
   "execution_count": 2,
   "id": "loose-albany",
   "metadata": {},
   "outputs": [],
   "source": [
    "model = model_from_json(open(\"model.json\",\"r\").read())\n",
    "model.load_weights('model.h5')"
   ]
  },
  {
   "cell_type": "code",
   "execution_count": 3,
   "id": "rational-holiday",
   "metadata": {},
   "outputs": [],
   "source": [
    "face_cl = cv2.CascadeClassifier(\"haarcascade_frontalface_default.xml\")\n",
    "\n",
    "cap = cv2.VideoCapture(0)"
   ]
  },
  {
   "cell_type": "code",
   "execution_count": 9,
   "id": "discrete-opposition",
   "metadata": {},
   "outputs": [],
   "source": []
  },
  {
   "cell_type": "code",
   "execution_count": null,
   "id": "clear-density",
   "metadata": {},
   "outputs": [],
   "source": []
  },
  {
   "cell_type": "code",
   "execution_count": 4,
   "id": "herbal-globe",
   "metadata": {},
   "outputs": [
    {
     "data": {
      "text/plain": [
       "<function destroyAllWindows>"
      ]
     },
     "execution_count": 4,
     "metadata": {},
     "output_type": "execute_result"
    }
   ],
   "source": [
    "while True:\n",
    "    ret,test_img=cap.read()# captures frame and returns boolean value and captured image\n",
    "    if not ret:\n",
    "        continue\n",
    "    gray_img= cv2.cvtColor(test_img, cv2.COLOR_BGR2GRAY)\n",
    "\n",
    "    faces_detected = face_cl.detectMultiScale(gray_img, 1.32, 5)\n",
    "\n",
    "\n",
    "    for (x,y,w,h) in faces_detected:\n",
    "        cv2.rectangle(test_img,(x,y),(x+w,y+h),(255,0,0),thickness=7)\n",
    "        roi_gray=gray_img[y:y+w,x:x+h]#cropping region of interest i.e. face area from  image\n",
    "        roi_gray=cv2.resize(roi_gray,(48,48))\n",
    "        img_pixels = image.img_to_array(roi_gray)\n",
    "        img_pixels = np.expand_dims(img_pixels, axis = 0)\n",
    "        img_pixels /= 255\n",
    "\n",
    "        predictions = model.predict(img_pixels)\n",
    "\n",
    "        #find max indexed array\n",
    "        max_index = np.argmax(predictions[0])\n",
    "\n",
    "        emotions = ('angry', 'disgust', 'fear', 'happy', 'sad', 'surprise', 'neutral')\n",
    "        predicted_emotion = emotions[max_index]\n",
    "\n",
    "        cv2.putText(test_img, predicted_emotion, (int(x), int(y)), cv2.FONT_HERSHEY_SIMPLEX, 1, (0,0,255), 2)\n",
    "\n",
    "    resized_img = cv2.resize(test_img, (1000, 700))\n",
    "    cv2.imshow('Facial emotion analysis ',resized_img)\n",
    "\n",
    "\n",
    "\n",
    "    if cv2.waitKey(10) == ord('q'):#wait until 'q' key is pressed\n",
    "        break\n",
    "\n",
    "cap.release()\n",
    "cv2.destroyAllWindows"
   ]
  },
  {
   "cell_type": "code",
   "execution_count": null,
   "id": "disabled-patent",
   "metadata": {},
   "outputs": [],
   "source": []
  }
 ],
 "metadata": {
  "kernelspec": {
   "display_name": "Python 3",
   "language": "python",
   "name": "python3"
  },
  "language_info": {
   "codemirror_mode": {
    "name": "ipython",
    "version": 3
   },
   "file_extension": ".py",
   "mimetype": "text/x-python",
   "name": "python",
   "nbconvert_exporter": "python",
   "pygments_lexer": "ipython3",
   "version": "3.8.5"
  }
 },
 "nbformat": 4,
 "nbformat_minor": 5
}
